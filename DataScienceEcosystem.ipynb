{
 "cells": [
  {
   "cell_type": "markdown",
   "id": "156068f1",
   "metadata": {},
   "source": [
    "# Data Science Tools and Ecosystem"
   ]
  },
  {
   "cell_type": "markdown",
   "id": "252f1b0c",
   "metadata": {},
   "source": [
    "## Author\n",
    "Doron Fingold"
   ]
  },
  {
   "cell_type": "markdown",
   "id": "8fc77907",
   "metadata": {},
   "source": [
    "In this notebook, Data Science Tools and Ecosystem are summarized."
   ]
  },
  {
   "cell_type": "markdown",
   "id": "d6eb24e7",
   "metadata": {},
   "source": [
    "**Objectives**\n",
    "* Demonstration of some basic jupyter notebook markdown features \n",
    "* List of popular programming languages\n",
    "* List of commonly used libraries\n",
    "* List of popular development enviornments \n",
    "* Examples of arithmetic operations in Python"
   ]
  },
  {
   "cell_type": "markdown",
   "id": "ce501338",
   "metadata": {},
   "source": [
    "Some of the popular languages that Data Scientists use are:\n",
    "1. Python\n",
    "2. R\n",
    "3. Scala\n",
    "4. SQL\n",
    "5. Julia"
   ]
  },
  {
   "cell_type": "markdown",
   "id": "cc20e556",
   "metadata": {},
   "source": [
    "Some of the commonly used libraries used by Data Scientists include:\n",
    "1. tidyverse (R)\n",
    "2. NumPy (Python)\n",
    "3. Pandas (Python)\n",
    "4. ggplot2 (R)"
   ]
  },
  {
   "cell_type": "markdown",
   "id": "79d23582",
   "metadata": {},
   "source": [
    "Some of the popular development enviornment open source tools include:\n",
    "\n",
    "|Data Science Tools|\n",
    "-------------|\n",
    "|R studio|\n",
    "|Spyder|\n",
    "|Jupyter|"
   ]
  },
  {
   "cell_type": "markdown",
   "id": "ca846ca9",
   "metadata": {},
   "source": [
    "### Below are a few examples of evaluating arithmetic expressions in Python\n",
    "```Python\n",
    "1 + 2\n",
    "2 - 1\n",
    "3 * 5\n",
    "5 / 3\n",
    "\n",
    "```"
   ]
  },
  {
   "cell_type": "code",
   "execution_count": 1,
   "id": "63e99c2b",
   "metadata": {},
   "outputs": [
    {
     "data": {
      "text/plain": [
       "17"
      ]
     },
     "execution_count": 1,
     "metadata": {},
     "output_type": "execute_result"
    }
   ],
   "source": [
    "# This is a simple example of arithmetic operations in Python\n",
    "(3*4)+5"
   ]
  },
  {
   "cell_type": "code",
   "execution_count": 2,
   "id": "aae1c20e",
   "metadata": {},
   "outputs": [
    {
     "data": {
      "text/plain": [
       "3.3333333333333335"
      ]
     },
     "execution_count": 2,
     "metadata": {},
     "output_type": "execute_result"
    }
   ],
   "source": [
    "# This will convert 200 minutes into hours by dividing it by 60\n",
    "200 / 60"
   ]
  },
  {
   "cell_type": "code",
   "execution_count": null,
   "id": "cf12f965",
   "metadata": {},
   "outputs": [],
   "source": []
  }
 ],
 "metadata": {
  "kernelspec": {
   "display_name": "Python 3 (ipykernel)",
   "language": "python",
   "name": "python3"
  },
  "language_info": {
   "codemirror_mode": {
    "name": "ipython",
    "version": 3
   },
   "file_extension": ".py",
   "mimetype": "text/x-python",
   "name": "python",
   "nbconvert_exporter": "python",
   "pygments_lexer": "ipython3",
   "version": "3.11.7"
  }
 },
 "nbformat": 4,
 "nbformat_minor": 5
}
